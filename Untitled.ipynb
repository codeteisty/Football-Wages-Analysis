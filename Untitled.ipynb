{
 "cells": [
  {
   "cell_type": "markdown",
   "id": "5402736b-9f9e-4d56-b024-0906dc4a9df0",
   "metadata": {},
   "source": [
    "# Football wages in the top 6 leagues 2022\n",
    "## Introduction\n",
    "\n",
    "Salaries of sportsmen were always an interesting topic for public and I'm not an exception. Thus, I decided to analyse a dataset that contains information about salaries of football players from top 6 European leagues (the rating is based on the performance of teams in such tournaments as Champions league and Europa league). While conducting my research, I will use several libraries like Seaborn or Plotly to display graphs and fascinating findings.\n",
    "\n",
    "I believe that at the beginning I should explain in more details what each column of my dataset contain.\n",
    "* Wage:\n",
    "\n",
    "  Wages of players (in euros) are listed in this column.\n",
    "* Age:\n",
    "\n",
    "    This column tells how old is a player in years.\n",
    "* Club:\n",
    "\n",
    "    A club of a player is represented in this column.\n",
    "\n",
    "* League:\n",
    "\n",
    "    The club of a player is in this league, there are 6 of them:\n",
    "  * La liga - Spanish league\n",
    "  * Premier League - English league\n",
    "  * Primiera Liga - Portuguese league\n",
    "  * Ligue 1 - French league\n",
    "  * Bundesliga - German league\n",
    "  * Serie A - Italian league\n",
    "\n",
    "    \n",
    "* Nation:\n",
    "\n",
    "    Player's nationality, there are plenty of them.\n",
    "\n",
    "* Position:\n",
    "\n",
    "    Main position of a player on a field, there are only 4 of them.\n",
    "\n",
    "* Apps:\n",
    "\n",
    "    This number is how many matches a sportsman played in his career for a club.\n",
    "* Caps:\n",
    "\n",
    "    This number is how many times a footballer played for his national team.\n",
    "\n",
    "### Here is a list of libraries that will be used in my project:"
   ]
  },
  {
   "cell_type": "code",
   "execution_count": null,
   "id": "9dba6ba7-ade2-413e-b4e2-ed6549dbf2e3",
   "metadata": {},
   "outputs": [],
   "source": [
    "# link to my dataset: https://www.kaggle.com/datasets/ultimus/football-wages-prediction\n",
    "# !pip3 install pandas\n",
    "# !pip3 install matplotlib\n",
    "# !pip3 install plotly\n",
    "# !pip3 install seaborn\n",
    "import pandas as pd\n",
    "import matplotlib.pyplot as plt\n",
    "import plotly.express as px\n",
    "import seaborn as sns"
   ]
  },
  {
   "cell_type": "markdown",
   "id": "dfe5df97-f7cc-4fa6-9ea5-bf1d1571ea6b",
   "metadata": {},
   "source": [
    "**Here is how my dataset looks like:**"
   ]
  },
  {
   "cell_type": "code",
   "execution_count": null,
   "id": "d6dcfa35-c649-47cb-b7e5-dcaaa2c20afd",
   "metadata": {},
   "outputs": [],
   "source": [
    "df = pd.read_csv('SalaryPrediction.csv')\n",
    "df\n"
   ]
  },
  {
   "cell_type": "markdown",
   "id": "dbba1708-f188-44b4-8746-2540ab4dd77b",
   "metadata": {},
   "source": [
    "# Data clean up and transformation\n",
    "1) Let's check if there are any NaNs and delete them if they are present.\n",
    "2) Since some numerical data in this dataset are in the string format, I need to transform it to integer format (Data in the 'Wage' column is clearly not in an integer format). I also have to delete all extra spaces in columns with text data.\n",
    "3) Then I want to delete all players that have 0 appearances, because I believe that they can distort the statistics significantly (There are a lot of players that count as members of the team, but the fact that they have 0 appearances implies that they didn't participate in any match in the 2022 season as well, while I want to analyse wages of players that play regularly).\n",
    "4) Subsequently, I want to filter data with the IQR in order to get rid of all outliers (by wage).\n",
    "5) Finally, I want to add new columns."
   ]
  },
  {
   "cell_type": "code",
   "execution_count": null,
   "id": "128cd783-200a-4bd2-9bb6-2ad9a6e161a8",
   "metadata": {},
   "outputs": [],
   "source": [
    "for name in df.columns.values:\n",
    "    print(df[name].isna().unique())"
   ]
  },
  {
   "cell_type": "markdown",
   "id": "df03a7cb-337c-4921-bfd9-676c1374bd40",
   "metadata": {},
   "source": [
    "This means that there are no NaNs in this dataset, so there is even no need to use dropna() method."
   ]
  },
  {
   "cell_type": "code",
   "execution_count": null,
   "id": "19b18eb4-598f-409a-8d2a-02d817b79ea8",
   "metadata": {},
   "outputs": [],
   "source": [
    "df['Wage'] = df['Wage'].apply(lambda x: x.replace(',', '')).astype('int')\n",
    "\n",
    "for column in ['Age', 'Apps', 'Caps']:\n",
    "    df[column] = df[column].astype('int')\n",
    "\n",
    "for column in ['League', 'Club', 'Nation', 'Position']:\n",
    "    df[column] = df[column].apply(lambda x: x.strip())\n",
    "    \n",
    "df"
   ]
  },
  {
   "cell_type": "markdown",
   "id": "8e9f93e2-19a7-4502-8294-54f5acec2b74",
   "metadata": {},
   "source": [
    "Now all numerical data are integer and all string values certainly don't have any extra spaces that can cause troubles later."
   ]
  },
  {
   "cell_type": "code",
   "execution_count": null,
   "id": "bbfe86e4-3d73-4d7d-a6c2-7a1a20373634",
   "metadata": {},
   "outputs": [],
   "source": [
    "df = df[df['Apps'] > 0]\n",
    "df"
   ]
  },
  {
   "cell_type": "markdown",
   "id": "70d9ff5c-ad7f-4d8d-9ad4-b789ad4b07b2",
   "metadata": {},
   "source": [
    "Now there are only players that have at least 1 appearance."
   ]
  },
  {
   "cell_type": "code",
   "execution_count": null,
   "id": "dbfe2cee-b193-4889-8c7a-97044a1ac06e",
   "metadata": {},
   "outputs": [],
   "source": [
    "q = df['Wage'].quantile(0.75) - df['Wage'].quantile(0.25)\n",
    "df = df[(df['Wage'] <= df['Wage'].quantile(0.75) + 1.5*q) & (df['Wage'] >= df['Wage'].quantile(0.25) - 1.5*q)]\n",
    "df"
   ]
  },
  {
   "cell_type": "markdown",
   "id": "35bff5e1-427f-45b7-89e5-9a28f6fecb30",
   "metadata": {},
   "source": [
    "As I already said before, I'm applying this method to drop all outliers, who are superstars like Messi, Neymar and so on, because their enormous wages will affect the results of my analysis significantly, while I want to analyse more average salaries."
   ]
  },
  {
   "cell_type": "code",
   "execution_count": null,
   "id": "eb62cd07-cb01-4a57-9d74-f0f4f2d8ea9d",
   "metadata": {},
   "outputs": [],
   "source": [
    "df = df.assign(new_column = df.Wage / df.Apps).rename(columns={'new_column': 'Wage by Apps'})\n",
    "df['Wage by Apps'] = df['Wage by Apps'].astype('int')\n",
    "df"
   ]
  },
  {
   "cell_type": "markdown",
   "id": "90a54a6b-c38d-47c6-b4a6-647299c8534d",
   "metadata": {},
   "source": [
    "Perhaps, this newborn column with numerical data will be helpful later on."
   ]
  },
  {
   "cell_type": "markdown",
   "id": "0e852063-a9ec-4037-a9e3-c3d39b09585d",
   "metadata": {},
   "source": [
    "# Descriptive statistics"
   ]
  },
  {
   "cell_type": "markdown",
   "id": "b446cf0c-c2f4-4aef-9949-29af0949ddef",
   "metadata": {},
   "source": [
    "**First of all, I decided to check which nations of playes dominate.**"
   ]
  },
  {
   "cell_type": "code",
   "execution_count": null,
   "id": "b43bfc2d-4995-4aab-ac66-86e2555ceebb",
   "metadata": {},
   "outputs": [],
   "source": [
    "df['Nation'].value_counts()[:10]"
   ]
  },
  {
   "cell_type": "markdown",
   "id": "41cb24d1-6728-4fdb-9902-c20cc2b11f04",
   "metadata": {},
   "source": [
    "It can be seen that players whose national league is in the top 6 dominate."
   ]
  },
  {
   "cell_type": "markdown",
   "id": "37010ebb-1348-463e-b0fe-48f3435c83c3",
   "metadata": {},
   "source": [
    "**Then I decided to check mean, median, minimum, maximum, standart deviation and other statistics of players' age.**"
   ]
  },
  {
   "cell_type": "code",
   "execution_count": null,
   "id": "7f48a39b-f8c4-4e0c-b506-91d02001cc20",
   "metadata": {},
   "outputs": [],
   "source": [
    "df['Age'].describe()"
   ]
  },
  {
   "cell_type": "markdown",
   "id": "b8539229-e824-4c73-aaa6-16e1eba00563",
   "metadata": {},
   "source": [
    "Mean and median are almost equal."
   ]
  },
  {
   "cell_type": "markdown",
   "id": "f0ce2134-9fab-45a8-9d9b-2c3124d0992a",
   "metadata": {},
   "source": [
    "**Then I checked same things for players' wages, but I also divided them into four categories by position.**"
   ]
  },
  {
   "cell_type": "code",
   "execution_count": null,
   "id": "568df604-cd3d-4df3-af6b-477daf5a2bec",
   "metadata": {},
   "outputs": [],
   "source": [
    "display(df[['Wage', 'Position']].groupby(by=['Position']).describe().astype('int'))"
   ]
  },
  {
   "cell_type": "markdown",
   "id": "4a65ebdd-6e86-4334-aedc-55b3624b3881",
   "metadata": {},
   "source": [
    "Strikingly, midfielders usually have the biggest salary."
   ]
  },
  {
   "cell_type": "markdown",
   "id": "15865242-243c-4acd-bd58-ee204da09bca",
   "metadata": {},
   "source": [
    "**After that, I did it again but divided them into 6 categories based on each player's league.**"
   ]
  },
  {
   "cell_type": "code",
   "execution_count": null,
   "id": "070b5b35-42f0-473e-a0af-2d6b9e937879",
   "metadata": {},
   "outputs": [],
   "source": [
    "display(df[['Wage', 'League']].groupby(by=['League']).describe().astype('int'))"
   ]
  },
  {
   "cell_type": "markdown",
   "id": "167ef80b-9193-42c0-bf0d-c717844c91c6",
   "metadata": {},
   "source": [
    "One can notice that mean wage and median wage in Premier League (England) are very close."
   ]
  },
  {
   "cell_type": "markdown",
   "id": "dda688fb-3e76-4052-9d84-76bd0b8f207a",
   "metadata": {},
   "source": [
    "# Overview\n",
    "\n",
    "**At first, I decided to visualise the number of players of each age.**"
   ]
  },
  {
   "cell_type": "code",
   "execution_count": null,
   "id": "605ba68a-101a-4552-968c-b54eeaebccaa",
   "metadata": {},
   "outputs": [],
   "source": [
    "#df.to_csv('new.csv')\n",
    "ages = df['Age'].value_counts()\n",
    "plt.show(sns.barplot(data=ages).set(ylabel='Number of players', title='Number of players of each age.'))"
   ]
  },
  {
   "cell_type": "markdown",
   "id": "17e3c782-cb64-44b0-959a-565b1fc83b50",
   "metadata": {},
   "source": [
    "Players from 22 years old to 25 prevail."
   ]
  },
  {
   "cell_type": "markdown",
   "id": "89a75106-de38-4c11-8565-f6fd67af9197",
   "metadata": {},
   "source": [
    "**Now I want to check which nations dominate in each of the leagues.**"
   ]
  },
  {
   "cell_type": "code",
   "execution_count": null,
   "id": "f1d5f1a7-9aeb-49d9-a860-d251d85287fc",
   "metadata": {},
   "outputs": [],
   "source": [
    "for league in [x for x in df['League'].unique()]:\n",
    "    d = {'Nation': [x for x in df[df['League'] == league]['Nation'].value_counts().index], 'Count': [x for x in df[df['League'] == league]['Nation'].value_counts()]}\n",
    "    dd = pd.DataFrame(data=d)\n",
    "    dd['Count'] = dd['Count'].astype('int')\n",
    "    other_sum = sum(dd.iloc[5:,:]['Count'])\n",
    "    dd = dd.iloc[:5,:]\n",
    "    dd_add = {'Nation': 'Other', 'Count': str(other_sum)}\n",
    "    dd = pd.concat([dd, pd.DataFrame([dd_add])], ignore_index=True)\n",
    "    display(px.pie(dd, values='Count', names='Nation', title=f'Percentage of players with different nationalities in {league}.', hole=0.3))"
   ]
  },
  {
   "cell_type": "markdown",
   "id": "ea9e404a-a4c2-47e8-b46d-9296b4f3c997",
   "metadata": {},
   "source": [
    "It can be seen that national players prevail in all 6 leagues and there is no nation that has a big share in one of the leagues except from brazil players in Primera Liga (Portugal)."
   ]
  },
  {
   "cell_type": "markdown",
   "id": "8c3d453c-9059-4af3-843a-cf48151da518",
   "metadata": {},
   "source": [
    "**After that, I decided to make a scatter plot of wages of players of each age.**"
   ]
  },
  {
   "cell_type": "code",
   "execution_count": null,
   "id": "c1d0d714-c0f1-475b-9201-d9cf34b3bc6d",
   "metadata": {},
   "outputs": [],
   "source": [
    "display(px.scatter(df, x='Age', y='Wage'))"
   ]
  },
  {
   "cell_type": "markdown",
   "id": "480d08d7-4279-43dd-940e-eb9c190e65f8",
   "metadata": {},
   "source": [
    "The only conclusion that can be made from that graph is that the youngest and oldest players don't have salaries higher than 3 million."
   ]
  },
  {
   "cell_type": "markdown",
   "id": "0db0bf51-2f84-40af-87e2-97101eae57d7",
   "metadata": {},
   "source": [
    "**Next, I made a boxplot of wages of players of each age.**"
   ]
  },
  {
   "cell_type": "code",
   "execution_count": null,
   "id": "8464749f-a9e0-4ea0-a03a-3a38cf4e5cd7",
   "metadata": {},
   "outputs": [],
   "source": [
    "sns.set(rc={\"figure.figsize\":(25, 14)})\n",
    "plt.show(sns.boxplot(data=df, x='Age', y='Wage', width=0.8).set_title('Wages of players of each age.', fontdict={'size': 30}))"
   ]
  },
  {
   "cell_type": "markdown",
   "id": "0305677b-21db-4b4e-a208-5995ac843bd2",
   "metadata": {},
   "source": [
    "Surprisingly, mean wage of players that are 31, 35, 38, and 40 years old is higher than any other. Including the fact that a lot of players end their career at the age of 30 I made a conclusion that football managers and teams are ready to pay decent salaries to experienced players that are still physically capable of playing the game (otherwise they would have ended their career earlier due to health problems and wouldn't have been included into this dataset)."
   ]
  },
  {
   "cell_type": "markdown",
   "id": "8648394f-6554-46e3-9c2a-754edc43dcf2",
   "metadata": {},
   "source": [
    "# Detailed overview\n",
    "**I made a decision to start detailed overview with a classical pairplot.**"
   ]
  },
  {
   "cell_type": "code",
   "execution_count": null,
   "id": "2b7e44d6-555b-43df-9e29-78ccbb5f77d9",
   "metadata": {},
   "outputs": [],
   "source": [
    "plt.show(sns.pairplot(df, hue='League'))"
   ]
  },
  {
   "cell_type": "markdown",
   "id": "39b0c049-98b1-4266-a97e-8e60d2878513",
   "metadata": {},
   "source": [
    "Unfortunately, it is impossible to make any conclusion from this graph apart from some obvious ones, such as, the older you are the more club appearances you will likely have."
   ]
  },
  {
   "cell_type": "markdown",
   "id": "d144af1b-dc24-42ff-a27f-cb3e87ca8747",
   "metadata": {},
   "source": [
    "**Subsequently, I made a scatter plot where x coordinate is the player's wage and y is the player's 'Wage by Apps' value (separated by positions).**"
   ]
  },
  {
   "cell_type": "code",
   "execution_count": null,
   "id": "9b9d5ef6-ff2d-4b24-bfd1-70d2c656f5b4",
   "metadata": {},
   "outputs": [],
   "source": [
    "px.scatter(df, x='Wage', y='Wage by Apps', color='Position')"
   ]
  },
  {
   "cell_type": "markdown",
   "id": "fa5f4bfd-566c-402f-a73f-4a37b3ab0028",
   "metadata": {},
   "source": [
    "Once again, it is hard to make an interesting conclusion. It can be seen that Wage by Apps value is rarely higher than 200 thousand and these high values occur only if the player's wage is less then 2 million. "
   ]
  },
  {
   "cell_type": "markdown",
   "id": "20aae665-c989-48df-9ec4-7fb937ec7f7c",
   "metadata": {},
   "source": [
    "**Then, I decided to make some scatter plots with overlaid regression lines. The first one is separated by player's position.**"
   ]
  },
  {
   "cell_type": "code",
   "execution_count": null,
   "id": "23aa0930-ce77-42b9-9cfd-d7e06e654952",
   "metadata": {},
   "outputs": [],
   "source": [
    "plt.show(sns.lmplot(df, x='Age', y='Wage', hue='Position'))"
   ]
  },
  {
   "cell_type": "markdown",
   "id": "7175b350-89d6-4a41-9579-d7468ec006e0",
   "metadata": {},
   "source": [
    "A conclusion that player's wage grows with age regardless of his position can be made."
   ]
  },
  {
   "cell_type": "markdown",
   "id": "c193969a-7aa7-4186-8d8d-b656f9866d52",
   "metadata": {},
   "source": [
    "**Next, I made a similar scatter plot but divided players by their league.**"
   ]
  },
  {
   "cell_type": "code",
   "execution_count": null,
   "id": "b67f2077-a132-4275-af27-dbac3c7a5b83",
   "metadata": {},
   "outputs": [],
   "source": [
    "plt.show(sns.lmplot(df, x='Age', y='Wage', hue='League'))"
   ]
  },
  {
   "cell_type": "markdown",
   "id": "5a2b8955-1575-4068-8ac9-7abe5e71425e",
   "metadata": {},
   "source": [
    "There more entertaining details can be found. Firstly, in the Premier League wage increases drasticlly with age, which can't be said about the Primiera Liga. Secondly, if a player wants to play for his whole career in one league, it is more beneficial for him in terms of wage after 25 years old to play in the Serie A than in the Bundesliga, even though he is likely to start his career with a lower salary in the Italian league than in the German."
   ]
  },
  {
   "cell_type": "markdown",
   "id": "69b8c7ea-20be-4393-9d62-c8944506f861",
   "metadata": {},
   "source": [
    "**After this, I decided to check players from which countries are likely to be paid more if they play or have played for their national team (Apps column stands for that). For this need, I wrote this piece of code:**"
   ]
  },
  {
   "cell_type": "code",
   "execution_count": null,
   "id": "fbf7f8a0-7f3a-4e14-a5e7-409f4e7bc048",
   "metadata": {},
   "outputs": [],
   "source": [
    "nations = df['Nation'].unique()\n",
    "positions = df['Position'].unique()\n",
    "for nation in nations:\n",
    "    for position in positions:\n",
    "        correlation = df.loc[(df['Nation'] == nation) & (df['Position'] == position)][['Wage', 'Age', 'Apps', 'Caps']].corr()\n",
    "        try:\n",
    "            if float(correlation['Caps']['Wage']) > 0.8 and df[(df['Nation'] == nation) & (df['Position'] == position)].shape[0]>10:\n",
    "                print(f\"Players' nation - {nation}, position - {position}.\")\n",
    "                display(correlation.style.background_gradient())\n",
    "        except:\n",
    "            pass"
   ]
  },
  {
   "cell_type": "markdown",
   "id": "1f99dc8c-191f-4c63-a335-78ee7afbf3f5",
   "metadata": {
    "scrolled": true
   },
   "source": [
    "So, if you are a player from one of these nations that plays on a particular position, the more games you have played for your national team, the higher your club salary is likely to be."
   ]
  },
  {
   "cell_type": "markdown",
   "id": "99ebc7ab-e6eb-43e5-9e98-7622fdd95842",
   "metadata": {},
   "source": [
    "**Then, I made a boxplot that represents wages of players in different leagues split by position.**"
   ]
  },
  {
   "cell_type": "code",
   "execution_count": null,
   "id": "a0ac23e5-3d28-446f-b528-8d333dc49357",
   "metadata": {},
   "outputs": [],
   "source": [
    "plt.show(sns.boxplot(data=df, x='League', y='Wage', hue='Position', palette='dark', width=0.8).set_title('Wages of players in the top 6 leagues separated by positions.', fontdict={'size': 30}))"
   ]
  },
  {
   "cell_type": "markdown",
   "id": "a6e1b29e-3779-4c3e-8c82-ca19c64d0463",
   "metadata": {},
   "source": [
    "In descriptive statistics we found out that midfielders have the highest salary on average, which, if we look at each league independently, is true only for the Premier League (it is actually tied with defenders' mean salary) and the Primiera Liga. For example, in the Serie A and Bundesliga mean wages of defenders and forwards are higher than average wage of midfielders. In the La Liga and Ligue 1 goalkeeper's mean salary is the highest, which is shocking. "
   ]
  },
  {
   "cell_type": "markdown",
   "id": "8da85590-a572-4b57-bc7c-49ac0885fce8",
   "metadata": {},
   "source": [
    "# My hypothesis\n",
    "**In the overview I displayed pie charts that show percentage of players with different nationalities in each league and found that percentage of national players dominate in each of the top 6 leagues, which lead me to a hypothesis that players prefer to play in national league because *they are getting paid better in it* than in other leagues. To check this assumption, I created a catplot that shows average salaries of national players and all other players combined in the top 6 leagues.**"
   ]
  },
  {
   "cell_type": "code",
   "execution_count": null,
   "id": "06e7ddaf-b0a4-4410-b4da-2c12dc7066b9",
   "metadata": {},
   "outputs": [],
   "source": [
    "leagues_natonality = {'La Liga': 'ESP', 'Serie A': 'ITA', 'Premier League': 'ENG', 'Bundesliga': 'GER', 'Ligue 1 Uber Eats': 'FRA', 'Primiera Liga': 'POR'}\n",
    "wages = pd.DataFrame(columns=['League', 'Nation', 'Wage'])\n",
    "for league in leagues_natonality:\n",
    "    national_mean_wage = df[(df['League'] == league) & (df['Nation'] == leagues_natonality[league])]['Wage'].mean().astype('int')\n",
    "    other_mean_wage = df[(df['League'] == league) & (df['Nation'] != leagues_natonality[league])]['Wage'].mean().astype('int')\n",
    "    add_info1 = {'League': league, 'Nation': 'National', 'Wage': national_mean_wage}\n",
    "    add_info2 = {'League': league, 'Nation': 'Other', 'Wage': other_mean_wage}\n",
    "    wages = pd.concat([wages, pd.DataFrame([add_info1])])\n",
    "    wages = pd.concat([wages, pd.DataFrame([add_info2])])\n",
    "\n",
    "plt.show(sns.catplot(data=wages, kind=\"bar\", x=\"League\", y=\"Wage\", hue=\"Nation\", palette=\"dark\", alpha=.6, aspect=3,  height=6).set(title='Mean wages of national and other players in the top 6 leagues.'))    "
   ]
  },
  {
   "cell_type": "markdown",
   "id": "252486d1-29b6-4ce7-b4c3-ed292c93ceeb",
   "metadata": {},
   "source": [
    "And surprisingly, mean wage of national players in the top 6 leagues is lower than the average wage of players from other nations in these leagues, which means that football managers and clubs don't prioritize national players above other players in terms of salary size, so, perhaps, these players are paid better in not national leagues?"
   ]
  },
  {
   "cell_type": "code",
   "execution_count": null,
   "id": "00212f39-e05c-4d5b-9b95-8a5fa5e75e4a",
   "metadata": {},
   "outputs": [],
   "source": [
    "sns.set(rc={\"figure.figsize\":(30,12)})\n",
    "wages2 = df[df.Nation.isin(leagues_natonality.values()) ]\n",
    "plt.show(sns.boxplot(data=wages2, x='Nation', y='Wage', hue='League', palette='dark', width=0.8).set(title='Wages of players whose national league is in the top 6.'))"
   ]
  },
  {
   "cell_type": "markdown",
   "id": "9b1ac6bf-df7e-4727-af41-4eae5e616985",
   "metadata": {},
   "source": [
    "And it turns out that reality is the opposite for my hypothesis, since it isn't the best option in terms of wage size to play in your national league. For Spanish, Italian, French, and Portuguese foorballers it is better to play in the English Premier League if they want to have a more competetive salary. For German players, however, it is more beneficial to play in the French Ligue 1 to achieve this goal. Finally, English players are paid most in the Italian Serie A."
   ]
  }
 ],
 "metadata": {
  "kernelspec": {
   "display_name": "Python 3 (ipykernel)",
   "language": "python",
   "name": "python3"
  },
  "language_info": {
   "codemirror_mode": {
    "name": "ipython",
    "version": 3
   },
   "file_extension": ".py",
   "mimetype": "text/x-python",
   "name": "python",
   "nbconvert_exporter": "python",
   "pygments_lexer": "ipython3",
   "version": "3.10.5"
  }
 },
 "nbformat": 4,
 "nbformat_minor": 5
}
